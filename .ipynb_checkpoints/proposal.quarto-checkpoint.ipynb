{
 "cells": [
  {
   "cell_type": "markdown",
   "id": "e15fedfa",
   "metadata": {},
   "source": [
    "---\n",
    "title: \"Anomaly Detection in Network Traffic Using NSL-KDD Dataset\"\n",
    "subtitle: \"Proposal\"\n",
    "author: \n",
    "  - name: \"Team 7 - Mehran Tajbakhsh\"\n",
    "    affiliations:\n",
    "      - name: \"College of Information Science, University of Arizona\"\n",
    "description: \"The goal of this project is to detect anomalies in network traffic data using a combination of statistical and machine learning techniques.<br>\n",
    "Anomalies, or outliers, are data points that deviate significantly from normal behavior. In cybersecurity contexts, these anomalies often correspond to intrusions, attacks, or fraudulent activities.<br>\n",
    "I will use the NSL-KDD dataset, a well-established benchmark for evaluating intrusion detection systems (IDS). Through a structured process of exploratory data analysis, statistical anomaly detection, and machine learning modeling, this project aims to build a robust anomaly detection framework capable of identifying malicious network activity.<br>\n",
    "The actual NSL-KDD dataset is fairly large (nearly 4 million records). We will be using a smaller version of the data that is a 10% subset randomly sampled from the whole data.<br>\n",
    "Finally, I will compare performance across these methods and evaluate their ability to correctly flag network intrusions as anomalies.\n",
    "\"\n",
    "format:\n",
    "  html:\n",
    "    code-tools: true\n",
    "    code-overflow: wrap\n",
    "    code-line-numbers: true\n",
    "    embed-resources: true\n",
    "editor: visual\n",
    "code-annotations: hover\n",
    "execute:\n",
    "  warning: false\n",
    "jupyter: python3\n",
    "---"
   ]
  },
  {
   "cell_type": "code",
   "execution_count": 1,
   "id": "load-pkgs",
   "metadata": {
    "message": false
   },
   "outputs": [],
   "source": [
    "#| label: load-pkgs\n",
    "#| output: false\n",
    "#| echo: false\n",
    "import pandas as pd\n",
    "from pathlib import Path\n",
    "from myst_nb import glue"
   ]
  },
  {
   "cell_type": "markdown",
   "id": "ef67f625",
   "metadata": {},
   "source": [
    "## Dataset"
   ]
  },
  {
   "cell_type": "code",
   "execution_count": 2,
   "id": "load-dataset",
   "metadata": {
    "message": false
   },
   "outputs": [
    {
     "data": {
      "application/papermill.record/text/plain": "494021"
     },
     "metadata": {
      "scrapbook": {
       "mime_prefix": "application/papermill.record/",
       "name": "n_rows"
      }
     },
     "output_type": "display_data"
    },
    {
     "data": {
      "application/papermill.record/text/plain": "43"
     },
     "metadata": {
      "scrapbook": {
       "mime_prefix": "application/papermill.record/",
       "name": "n_cols"
      }
     },
     "output_type": "display_data"
    },
    {
     "data": {
      "application/papermill.record/text/plain": "42"
     },
     "metadata": {
      "scrapbook": {
       "mime_prefix": "application/papermill.record/",
       "name": "n_features"
      }
     },
     "output_type": "display_data"
    },
    {
     "data": {
      "application/papermill.record/text/plain": "'no'"
     },
     "metadata": {
      "scrapbook": {
       "mime_prefix": "application/papermill.record/",
       "name": "has_difficulty"
      }
     },
     "output_type": "display_data"
    },
    {
     "data": {
      "application/papermill.record/text/plain": "19.691065764410826"
     },
     "metadata": {
      "scrapbook": {
       "mime_prefix": "application/papermill.record/",
       "name": "p_normal"
      }
     },
     "output_type": "display_data"
    },
    {
     "data": {
      "application/papermill.record/text/plain": "97278"
     },
     "metadata": {
      "scrapbook": {
       "mime_prefix": "application/papermill.record/",
       "name": "c_normal"
      }
     },
     "output_type": "display_data"
    },
    {
     "data": {
      "application/papermill.record/text/plain": "79.23914165592151"
     },
     "metadata": {
      "scrapbook": {
       "mime_prefix": "application/papermill.record/",
       "name": "p_DoS"
      }
     },
     "output_type": "display_data"
    },
    {
     "data": {
      "application/papermill.record/text/plain": "391458"
     },
     "metadata": {
      "scrapbook": {
       "mime_prefix": "application/papermill.record/",
       "name": "c_DoS"
      }
     },
     "output_type": "display_data"
    },
    {
     "data": {
      "application/papermill.record/text/plain": "0.8313411778041824"
     },
     "metadata": {
      "scrapbook": {
       "mime_prefix": "application/papermill.record/",
       "name": "p_Probe"
      }
     },
     "output_type": "display_data"
    },
    {
     "data": {
      "application/papermill.record/text/plain": "4107"
     },
     "metadata": {
      "scrapbook": {
       "mime_prefix": "application/papermill.record/",
       "name": "c_Probe"
      }
     },
     "output_type": "display_data"
    },
    {
     "data": {
      "application/papermill.record/text/plain": "0.22792553352995118"
     },
     "metadata": {
      "scrapbook": {
       "mime_prefix": "application/papermill.record/",
       "name": "p_R2L"
      }
     },
     "output_type": "display_data"
    },
    {
     "data": {
      "application/papermill.record/text/plain": "1126"
     },
     "metadata": {
      "scrapbook": {
       "mime_prefix": "application/papermill.record/",
       "name": "c_R2L"
      }
     },
     "output_type": "display_data"
    },
    {
     "data": {
      "application/papermill.record/text/plain": "0.010525868333532381"
     },
     "metadata": {
      "scrapbook": {
       "mime_prefix": "application/papermill.record/",
       "name": "p_U2R"
      }
     },
     "output_type": "display_data"
    },
    {
     "data": {
      "application/papermill.record/text/plain": "52"
     },
     "metadata": {
      "scrapbook": {
       "mime_prefix": "application/papermill.record/",
       "name": "c_U2R"
      }
     },
     "output_type": "display_data"
    }
   ],
   "source": [
    "#| label: load-dataset\n",
    "#| echo: false\n",
    "#| output: false\n",
    "\n",
    "\n",
    "data_path = Path(\"./data/kddcup.data_10_percent_corrected\")\n",
    "\n",
    "base_cols = [\n",
    "    \"duration\",\"protocol_type\",\"service\",\"flag\",\"src_bytes\",\"dst_bytes\",\n",
    "    \"land\",\"wrong_fragment\",\"urgent\",\"hot\",\"num_failed_logins\",\"logged_in\",\n",
    "    \"num_compromised\",\"root_shell\",\"su_attempted\",\"num_root\",\"num_file_creations\",\n",
    "    \"num_shells\",\"num_access_files\",\"num_outbound_cmds\",\"is_host_login\",\n",
    "    \"is_guest_login\",\"count\",\"srv_count\",\"serror_rate\",\"srv_serror_rate\",\n",
    "    \"rerror_rate\",\"srv_rerror_rate\",\"same_srv_rate\",\"diff_srv_rate\",\n",
    "    \"srv_diff_host_rate\",\"dst_host_count\",\"dst_host_srv_count\",\n",
    "    \"dst_host_same_srv_rate\",\"dst_host_diff_srv_rate\",\n",
    "    \"dst_host_same_src_port_rate\",\"dst_host_srv_diff_host_rate\",\n",
    "    \"dst_host_serror_rate\",\"dst_host_srv_serror_rate\",\n",
    "    \"dst_host_rerror_rate\",\"dst_host_srv_rerror_rate\"\n",
    "]\n",
    "\n",
    "tmp = pd.read_csv(data_path, header=None)\n",
    "if tmp.shape[1] == 42:\n",
    "    tmp.columns = base_cols + [\"label\"]\n",
    "elif tmp.shape[1] == 43:\n",
    "    tmp.columns = base_cols + [\"label\",\"difficulty\"]\n",
    "else:\n",
    "    raise ValueError(f\"Unexpected column count {tmp.shape[1]} for KDD 10% file.\")\n",
    "\n",
    "df = tmp\n",
    "df[\"label\"] = df[\"label\"].astype(str).str.strip().str.lower()\n",
    "\n",
    "def map_family(lbl: str) -> str:\n",
    "    if lbl == \"normal.\": return \"normal\"\n",
    "    l = lbl\n",
    "    if any(x in l for x in [\"neptune\",\"smurf\",\"back\",\"teardrop\",\"pod\",\"land\",\"apache2\",\"udpstorm\",\"processtable\",\"worm\",\"mailbomb\"]):\n",
    "        return \"DoS\"\n",
    "    if any(x in l for x in [\"satan\",\"ipsweep\",\"nmap\",\"portsweep\",\"mscan\",\"saint\"]):\n",
    "        return \"Probe\"\n",
    "    if any(x in l for x in [\"guess_passwd\",\"ftp_write\",\"imap\",\"phf\",\"multihop\",\"warezmaster\",\"warezclient\",\"spy\",\"xlock\",\"xsnoop\",\"snmpgetattack\",\"snmpguess\",\"httptunnel\",\"sendmail\",\"named\",\"worm_r2l\"]):\n",
    "        return \"R2L\"\n",
    "    if any(x in l for x in [\"buffer_overflow\",\"loadmodule\",\"perl\",\"rootkit\",\"sqlattack\",\"xterm\",\"ps\",\"httptunnel_u2r\"]):\n",
    "        return \"U2R\"\n",
    "    return \"attack_other\"\n",
    "\n",
    "df[\"family\"] = df[\"label\"].apply(map_family)\n",
    "\n",
    "# ---- Inline stats (suppress display) ----\n",
    "n_rows, n_cols = df.shape\n",
    "n_features = n_cols - (2 if \"difficulty\" in df.columns else 1)\n",
    "\n",
    "glue(\"n_rows\", n_rows, display=False)\n",
    "glue(\"n_cols\", n_cols, display=False)\n",
    "glue(\"n_features\", int(n_features), display=False)\n",
    "glue(\"has_difficulty\", \"yes\" if \"difficulty\" in df.columns else \"no\", display=False)\n",
    "\n",
    "# Family percentages + counts\n",
    "fam_pct = df[\"family\"].value_counts(normalize=True).mul(100)\n",
    "fam_cnt = df[\"family\"].value_counts()\n",
    "\n",
    "for fam in [\"normal\",\"DoS\",\"Probe\",\"R2L\",\"U2R\"]:\n",
    "    glue(f\"p_{fam}\", float(fam_pct.get(fam, 0.0)), display=False)\n",
    "    glue(f\"c_{fam}\", int(fam_cnt.get(fam, 0)), display=False)"
   ]
  },
  {
   "cell_type": "markdown",
   "id": "1cdbbfe8",
   "metadata": {},
   "source": [
    "The **NSL-KDD** dataset is an improved successor to **KDD Cup 1999**, designed to mitigate key issues such as redundant records and extreme class imbalance. It comprises **network connection records** with **41 features** (transport/application protocol, service, flag indicators, traffic statistics, etc.) and a label indicating **normal** or one of several **attack types** grouped into four categories: **DoS**, **Probe**, **R2L**, and **U2R**."
   ]
  },
  {
   "cell_type": "code",
   "execution_count": 3,
   "id": "Dataset-Summary",
   "metadata": {
    "message": false
   },
   "outputs": [
    {
     "name": "stdout",
     "output_type": "stream",
     "text": [
      "\n",
      "This analysis uses the 10% of NSL-KDD corrected file with 494021 rows and 43 columns.\n",
      "\n",
      "In the context of intrusion detection, the dataset encompasses four main families of \n",
      "attack behaviors: Denial of Service (DoS), Probe, Remote to Local (R2L),\n",
      "and User to Root (U2R): \n",
      "\n",
      "- normal: 19.69% (n = 97278)\n",
      "- DoS: 79.24% (n = 391458)\n",
      "- Probe: 0.83% (n = 4107)\n",
      "- R2L: 0.23% (n = 1126)\n",
      "- U2R: 0.01% (n = 52)\n",
      "\n"
     ]
    }
   ],
   "source": [
    "#| label: Dataset Summary\n",
    "#| echo: false\n",
    "\n",
    "md = f\"\"\"\n",
    "This analysis uses the 10% of NSL-KDD corrected file with {n_rows} rows and {n_cols} columns.\n",
    "\n",
    "In the context of intrusion detection, the dataset encompasses four main families of \n",
    "attack behaviors: Denial of Service (DoS), Probe, Remote to Local (R2L),\n",
    "and User to Root (U2R): \n",
    "\n",
    "- normal: {df[\"family\"].value_counts(normalize=True).mul(100).get(\"normal\", 0):.2f}% (n = {df[\"family\"].value_counts().get(\"normal\", 0)})\n",
    "- DoS: {df[\"family\"].value_counts(normalize=True).mul(100).get(\"DoS\", 0):.2f}% (n = {df[\"family\"].value_counts().get(\"DoS\", 0)})\n",
    "- Probe: {df[\"family\"].value_counts(normalize=True).mul(100).get(\"Probe\", 0):.2f}% (n = {df[\"family\"].value_counts().get(\"Probe\", 0)})\n",
    "- R2L: {df[\"family\"].value_counts(normalize=True).mul(100).get(\"R2L\", 0):.2f}% (n = {df[\"family\"].value_counts().get(\"R2L\", 0)})\n",
    "- U2R: {df[\"family\"].value_counts(normalize=True).mul(100).get(\"U2R\", 0):.2f}% (n = {df[\"family\"].value_counts().get(\"U2R\", 0)})\n",
    "\"\"\"\n",
    "\n",
    "print(md)"
   ]
  },
  {
   "cell_type": "markdown",
   "id": "f3048feb",
   "metadata": {},
   "source": [
    "Why this dataset? <br> It’s the canonical benchmark for intrusion/anomaly detection and complements NSL-KDD, which addresses redundancy/imbalance issues. Its size, variety of features (categorical + numeric), and labeled attacks make it ideal for comparing statistical (Z-Score, Elliptical Envelope, LOF, DBSCAN) and ML detectors (Isolation Forest, OC-SVM, Deep Autoencoders).\n",
    "\n",
    "## Questions\n",
    "\n",
    "1. How effectively can statistical anomaly detection methods identify malicious network traffic within the NSL-KDD dataset?<br>\n",
    "Or more specifically, which unsupervised techniques — such as Z-Score, Elliptic Envelope, Local Outlier Factor (LOF), and DBSCAN — perform best in distinguishing normal traffic from various attack families (DoS, Probe, R2L, and U2R)? <br>\n",
    "\n",
    "2. How does the performance of machine learning–based intrusion detection models compare to traditional statistical anomaly detectors?<br>\n",
    "Or more specifically, which algorithms — including Random Forest, Support Vector Machine (SVM), Isolation Forest, and Deep Autoencoders — achieve higher accuracy, precision, and recall when detecting network intrusions, and what trade-offs exist in terms of interpretability and computational cost?\n",
    "\n",
    "## Analysis plan\n",
    "\n",
    "**Week 1 –** Problem Definition & Data Preparation\n",
    "The first week focuses on defining the objectives of anomaly detection within the NSL-KDD dataset. The dataset will be loaded, inspected, and preprocessed to ensure analytical readiness. Tasks include handling missing values, encoding categorical features, and scaling numerical variables.\n",
    "Deliverables: Data preparation notebook and summary report.\n",
    "\n",
    "**Week 2 –** Exploratory Data Analysis (EDA)\n",
    "This phase aims to understand data distributions, feature correlations, and patterns of normal versus attack traffic. Visualization techniques will be applied to highlight key discriminative features and potential sources of anomaly.\n",
    "Deliverables: EDA notebook with visual insights and descriptive summaries.\n",
    "\n",
    "**Week 3 –** Statistical Anomaly Detection Methods\n",
    "In this stage, classical statistical methods for anomaly detection will be implemented, including Z-Score, Elliptical Envelope, Local Outlier Factor (LOF), and DBSCAN. Their performance in identifying abnormal network behaviors will be analyzed and compared.\n",
    "Deliverables: Statistical anomaly detection notebook and comparative summary.\n",
    "\n",
    "**Week 4 –** Machine Learning–Based Methods\n",
    "Modern learning-based detectors will be explored using Isolation Forest, One-Class SVM, and Deep Autoencoders. Models will be tuned for optimal performance, and detection boundaries will be visualized to interpret decision behavior.\n",
    "Deliverables: ML anomaly detection notebook and evaluation metrics.\n",
    "\n",
    "**Week 5 –** Model Evaluation and Comparison\n",
    "All implemented methods will be assessed using standard performance metrics such as Precision, Recall, F1-score, ROC-AUC, and Detection Rate. Comparative analyses and ablation studies will be performed to evaluate robustness and generalization.\n",
    "Deliverables: Evaluation notebook and performance report.\n",
    "\n",
    "**Week 6 –** Final Analysis & Reporting\n",
    "The final week synthesizes results into a comprehensive assessment of the effectiveness of different anomaly detection techniques. The findings will discuss practical implications, advantages, and limitations of each approach in real-world intrusion detection scenarios.\n",
    "Deliverables: Final project report and presentation slides."
   ]
  }
 ],
 "metadata": {
  "kernelspec": {
   "display_name": "Python 3 (ipykernel)",
   "language": "python",
   "name": "python3",
   "path": "C:\\Users\\mehra\\anaconda3\\share\\jupyter\\kernels\\python3"
  },
  "language_info": {
   "codemirror_mode": {
    "name": "ipython",
    "version": 3
   },
   "file_extension": ".py",
   "mimetype": "text/x-python",
   "name": "python",
   "nbconvert_exporter": "python",
   "pygments_lexer": "ipython3",
   "version": "3.12.7"
  }
 },
 "nbformat": 4,
 "nbformat_minor": 5
}
